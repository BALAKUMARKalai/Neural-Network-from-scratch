{
 "cells": [
  {
   "cell_type": "code",
   "execution_count": 23,
   "id": "80ddd9ee",
   "metadata": {},
   "outputs": [],
   "source": [
    "import pandas as pd\n",
    "import matplotlib.pyplot as plt\n",
    "import numpy as np"
   ]
  },
  {
   "cell_type": "code",
   "execution_count": 24,
   "id": "9040dc81",
   "metadata": {},
   "outputs": [
    {
     "data": {
      "text/html": [
       "<div>\n",
       "<style scoped>\n",
       "    .dataframe tbody tr th:only-of-type {\n",
       "        vertical-align: middle;\n",
       "    }\n",
       "\n",
       "    .dataframe tbody tr th {\n",
       "        vertical-align: top;\n",
       "    }\n",
       "\n",
       "    .dataframe thead th {\n",
       "        text-align: right;\n",
       "    }\n",
       "</style>\n",
       "<table border=\"1\" class=\"dataframe\">\n",
       "  <thead>\n",
       "    <tr style=\"text-align: right;\">\n",
       "      <th></th>\n",
       "      <th>label</th>\n",
       "      <th>1x1</th>\n",
       "      <th>1x2</th>\n",
       "      <th>1x3</th>\n",
       "      <th>1x4</th>\n",
       "      <th>1x5</th>\n",
       "      <th>1x6</th>\n",
       "      <th>1x7</th>\n",
       "      <th>1x8</th>\n",
       "      <th>1x9</th>\n",
       "      <th>...</th>\n",
       "      <th>28x19</th>\n",
       "      <th>28x20</th>\n",
       "      <th>28x21</th>\n",
       "      <th>28x22</th>\n",
       "      <th>28x23</th>\n",
       "      <th>28x24</th>\n",
       "      <th>28x25</th>\n",
       "      <th>28x26</th>\n",
       "      <th>28x27</th>\n",
       "      <th>28x28</th>\n",
       "    </tr>\n",
       "  </thead>\n",
       "  <tbody>\n",
       "    <tr>\n",
       "      <th>0</th>\n",
       "      <td>5</td>\n",
       "      <td>0</td>\n",
       "      <td>0</td>\n",
       "      <td>0</td>\n",
       "      <td>0</td>\n",
       "      <td>0</td>\n",
       "      <td>0</td>\n",
       "      <td>0</td>\n",
       "      <td>0</td>\n",
       "      <td>0</td>\n",
       "      <td>...</td>\n",
       "      <td>0</td>\n",
       "      <td>0</td>\n",
       "      <td>0</td>\n",
       "      <td>0</td>\n",
       "      <td>0</td>\n",
       "      <td>0</td>\n",
       "      <td>0</td>\n",
       "      <td>0</td>\n",
       "      <td>0</td>\n",
       "      <td>0</td>\n",
       "    </tr>\n",
       "    <tr>\n",
       "      <th>1</th>\n",
       "      <td>0</td>\n",
       "      <td>0</td>\n",
       "      <td>0</td>\n",
       "      <td>0</td>\n",
       "      <td>0</td>\n",
       "      <td>0</td>\n",
       "      <td>0</td>\n",
       "      <td>0</td>\n",
       "      <td>0</td>\n",
       "      <td>0</td>\n",
       "      <td>...</td>\n",
       "      <td>0</td>\n",
       "      <td>0</td>\n",
       "      <td>0</td>\n",
       "      <td>0</td>\n",
       "      <td>0</td>\n",
       "      <td>0</td>\n",
       "      <td>0</td>\n",
       "      <td>0</td>\n",
       "      <td>0</td>\n",
       "      <td>0</td>\n",
       "    </tr>\n",
       "    <tr>\n",
       "      <th>2</th>\n",
       "      <td>4</td>\n",
       "      <td>0</td>\n",
       "      <td>0</td>\n",
       "      <td>0</td>\n",
       "      <td>0</td>\n",
       "      <td>0</td>\n",
       "      <td>0</td>\n",
       "      <td>0</td>\n",
       "      <td>0</td>\n",
       "      <td>0</td>\n",
       "      <td>...</td>\n",
       "      <td>0</td>\n",
       "      <td>0</td>\n",
       "      <td>0</td>\n",
       "      <td>0</td>\n",
       "      <td>0</td>\n",
       "      <td>0</td>\n",
       "      <td>0</td>\n",
       "      <td>0</td>\n",
       "      <td>0</td>\n",
       "      <td>0</td>\n",
       "    </tr>\n",
       "    <tr>\n",
       "      <th>3</th>\n",
       "      <td>1</td>\n",
       "      <td>0</td>\n",
       "      <td>0</td>\n",
       "      <td>0</td>\n",
       "      <td>0</td>\n",
       "      <td>0</td>\n",
       "      <td>0</td>\n",
       "      <td>0</td>\n",
       "      <td>0</td>\n",
       "      <td>0</td>\n",
       "      <td>...</td>\n",
       "      <td>0</td>\n",
       "      <td>0</td>\n",
       "      <td>0</td>\n",
       "      <td>0</td>\n",
       "      <td>0</td>\n",
       "      <td>0</td>\n",
       "      <td>0</td>\n",
       "      <td>0</td>\n",
       "      <td>0</td>\n",
       "      <td>0</td>\n",
       "    </tr>\n",
       "    <tr>\n",
       "      <th>4</th>\n",
       "      <td>9</td>\n",
       "      <td>0</td>\n",
       "      <td>0</td>\n",
       "      <td>0</td>\n",
       "      <td>0</td>\n",
       "      <td>0</td>\n",
       "      <td>0</td>\n",
       "      <td>0</td>\n",
       "      <td>0</td>\n",
       "      <td>0</td>\n",
       "      <td>...</td>\n",
       "      <td>0</td>\n",
       "      <td>0</td>\n",
       "      <td>0</td>\n",
       "      <td>0</td>\n",
       "      <td>0</td>\n",
       "      <td>0</td>\n",
       "      <td>0</td>\n",
       "      <td>0</td>\n",
       "      <td>0</td>\n",
       "      <td>0</td>\n",
       "    </tr>\n",
       "  </tbody>\n",
       "</table>\n",
       "<p>5 rows × 785 columns</p>\n",
       "</div>"
      ],
      "text/plain": [
       "   label  1x1  1x2  1x3  1x4  1x5  1x6  1x7  1x8  1x9  ...  28x19  28x20  \\\n",
       "0      5    0    0    0    0    0    0    0    0    0  ...      0      0   \n",
       "1      0    0    0    0    0    0    0    0    0    0  ...      0      0   \n",
       "2      4    0    0    0    0    0    0    0    0    0  ...      0      0   \n",
       "3      1    0    0    0    0    0    0    0    0    0  ...      0      0   \n",
       "4      9    0    0    0    0    0    0    0    0    0  ...      0      0   \n",
       "\n",
       "   28x21  28x22  28x23  28x24  28x25  28x26  28x27  28x28  \n",
       "0      0      0      0      0      0      0      0      0  \n",
       "1      0      0      0      0      0      0      0      0  \n",
       "2      0      0      0      0      0      0      0      0  \n",
       "3      0      0      0      0      0      0      0      0  \n",
       "4      0      0      0      0      0      0      0      0  \n",
       "\n",
       "[5 rows x 785 columns]"
      ]
     },
     "execution_count": 24,
     "metadata": {},
     "output_type": "execute_result"
    }
   ],
   "source": [
    "df_train= pd.read_csv('mnist_train.csv')\n",
    "df_train.head()\n"
   ]
  },
  {
   "cell_type": "code",
   "execution_count": 25,
   "id": "8203ca17",
   "metadata": {},
   "outputs": [
    {
     "name": "stdout",
     "output_type": "stream",
     "text": [
      "(55763, 785)\n"
     ]
    }
   ],
   "source": [
    "\"\"\"X = df_train.iloc[:,0:].values\n",
    "Y = df_train.iloc[:,0].values\"\"\"\n",
    "\n",
    "print(df_train.shape)\n",
    "data_train = np.array(df_train)\n",
    "m, n = data_train.shape\n",
    "np.random.shuffle(data_train)\n",
    "\n",
    "data_train = data_train[1000:m].T\n",
    "Y_train = data_train[0]\n",
    "X_train = data_train[1:n]\n",
    "X_train = X_train / 255.\n",
    "_,m_train = X_train.shape\n",
    "\n"
   ]
  },
  {
   "cell_type": "code",
   "execution_count": 26,
   "id": "25d03f84",
   "metadata": {},
   "outputs": [
    {
     "data": {
      "text/plain": [
       "((784,), (54763,))"
      ]
     },
     "execution_count": 26,
     "metadata": {},
     "output_type": "execute_result"
    }
   ],
   "source": [
    "X_train[:,0].shape, Y_train.shape"
   ]
  },
  {
   "cell_type": "code",
   "execution_count": 27,
   "id": "a1181069",
   "metadata": {},
   "outputs": [
    {
     "data": {
      "text/plain": [
       "(784, 54763)"
      ]
     },
     "execution_count": 27,
     "metadata": {},
     "output_type": "execute_result"
    }
   ],
   "source": [
    "X_train.shape"
   ]
  },
  {
   "cell_type": "code",
   "execution_count": 28,
   "id": "67a4aa8a",
   "metadata": {},
   "outputs": [],
   "source": [
    "def reLU(Z):\n",
    "    return np.maximum(0,Z)\n",
    "\n",
    "def derivative_reLU(Z): \n",
    "    return Z>0\n",
    "\n",
    "def softmax(Z):\n",
    "    expZ = np.exp(Z - np.max(Z, axis=0, keepdims=True))\n",
    "    return expZ / np.sum(expZ, axis=0, keepdims=True)\n",
    "\n",
    "    \n",
    "\n",
    "def init_params():\n",
    "    W1 = np.random.randn(10 ,784)\n",
    "    b1 = np.random.randn(10,1)\n",
    "    W2 = np.random.rand(10,10 )\n",
    "    b2 = np.random.rand(10,1)\n",
    "    return W1, b1, W2, b2\n",
    "\n",
    "\n",
    "def forprop(W1, b1, W2, b2, X):\n",
    "     Z1 = W1.dot(X) + b1\n",
    "     A1 =  reLU(Z1)\n",
    "     Z2 = W2.dot(A1) + b2\n",
    "     A2 = softmax(Z2)\n",
    "     return Z1, A1, Z2, A2\n",
    "\n",
    "def one_hot(Y):\n",
    "    one_hot_Y = np.zeros((Y.size, Y.max() + 1))\n",
    "    one_hot_Y[np.arange(Y.size),Y] = 1\n",
    "    one_hot_Y = one_hot_Y.T\n",
    "    return one_hot_Y\n",
    "\n",
    "def backprop(Z1, Z2, A1, A2, W1, W2, X, Y):\n",
    "    m = Y.size\n",
    "    one_hot_Y = one_hot(Y)\n",
    "    dZ2 = A2 - one_hot_Y\n",
    "    dW2 = 1/m * dZ2.dot(A1.T)\n",
    "    db2 = 1/m * np.sum(dZ2)\n",
    "    dZ1 = W2.T.dot(dZ2) * derivative_reLU(Z1)\n",
    "    dW1 = 1/m * dZ1.dot(X.T) \n",
    "    db1 = 1/m * np.sum(dZ1)\n",
    "    return dW1,db1, dW2, db2\n",
    "    \n",
    "def params_update(W1, b1, W2, b2, dW1, db1, dW2, db2, alpha):\n",
    "    W1 = W1 - alpha * dW1\n",
    "    b1 = b1 - alpha * db1\n",
    "    W2 = W2 - alpha * dW2\n",
    "    b2 = b2 - alpha * db2\n",
    "    return W1, b1, W2, b2\n",
    "\n",
    "\n",
    "\n",
    "    "
   ]
  },
  {
   "cell_type": "code",
   "execution_count": 29,
   "id": "e8c5a094",
   "metadata": {},
   "outputs": [],
   "source": [
    "def pred(A2):\n",
    "    return np.argmax(A2, axis=0)\n",
    "def accuracy(predictions, Y):\n",
    "    print(predictions, Y)\n",
    "    return np.sum(predictions == Y) / Y.size\n",
    "\n",
    "def gradient_descent(X, Y, iterations, alpha):\n",
    "    W1,b1, W2, b2 = init_params()\n",
    "    for i in range(iterations):\n",
    "        Z1, A1, Z2, A2 = forprop(W1, b1, W2, b2, X_train)\n",
    "        dW1, db1, dW2, db2= backprop(Z1, Z2, A1, A2, W1, W2, X, Y)\n",
    "        W1, b1, W2, b2 = params_update(W1, b1, W2, b2, dW1, db1, dW2, db2, alpha)\n",
    "        if i%100 == 0:\n",
    "            print(f'Iteration {i}')\n",
    "            predictions = pred(A2)\n",
    "            print(accuracy(predictions, Y))\n",
    "    return W1, b1, W2, b2\n",
    "\n"
   ]
  },
  {
   "cell_type": "code",
   "execution_count": 30,
   "id": "01ea30bb",
   "metadata": {},
   "outputs": [
    {
     "name": "stdout",
     "output_type": "stream",
     "text": [
      "Iteration 0\n",
      "[4 4 4 ... 5 9 5] [5 1 0 ... 7 5 7]\n",
      "0.10689699249493272\n",
      "Iteration 100\n",
      "[8 1 0 ... 7 5 7] [5 1 0 ... 7 5 7]\n",
      "0.46104121395832953\n",
      "Iteration 200\n",
      "[8 1 0 ... 7 5 7] [5 1 0 ... 7 5 7]\n",
      "0.5447473659222468\n"
     ]
    },
    {
     "data": {
      "text/plain": [
       "(array([[ 0.51873114,  1.30855417,  0.34176709, ..., -0.80565937,\n",
       "         -0.73769599, -1.32896695],\n",
       "        [ 1.59131083,  1.63582745, -1.12875347, ...,  0.69401196,\n",
       "          0.0949526 ,  0.09007307],\n",
       "        [ 0.25475511,  0.04097864,  1.18765065, ...,  0.1058458 ,\n",
       "         -0.20588166, -0.52728365],\n",
       "        ...,\n",
       "        [-2.09285516,  0.94022954, -0.53350868, ...,  1.324432  ,\n",
       "          0.43166687,  1.08759668],\n",
       "        [-1.61166272, -0.84961711,  0.39240375, ...,  0.1072631 ,\n",
       "          1.5293249 , -0.8055061 ],\n",
       "        [-1.0906478 , -1.13479389, -0.45034456, ...,  0.06634573,\n",
       "          0.54805783,  0.10878729]]),\n",
       " array([[ 0.65143282],\n",
       "        [-1.67379189],\n",
       "        [-0.01487755],\n",
       "        [-2.09587121],\n",
       "        [ 1.82105163],\n",
       "        [-0.83717734],\n",
       "        [-1.37900001],\n",
       "        [-2.14524572],\n",
       "        [-0.69270312],\n",
       "        [-0.86036374]]),\n",
       " array([[ 0.3935704 ,  0.79168242,  0.45607749,  0.41760378,  0.53157784,\n",
       "          0.27699907,  0.69132789,  0.23832274, -0.4016438 ,  0.74744342],\n",
       "        [ 0.14621644,  0.55048658,  0.26704262,  0.1293655 ,  0.57108055,\n",
       "          0.99626938,  0.45500867,  0.25205702,  0.93422407,  0.24381944],\n",
       "        [ 0.21551331,  0.6700983 ,  0.67302369,  0.24532047,  0.19942718,\n",
       "          0.5546221 ,  0.66714669,  0.59745181,  0.55773007,  0.51520352],\n",
       "        [ 0.27977339,  0.38594583,  0.57680783,  0.3993778 ,  0.61012351,\n",
       "          0.25917807,  0.57567869,  0.47624023,  0.68904801,  0.79423488],\n",
       "        [ 0.62374461,  0.43848974,  0.71678484,  0.59565423,  0.47452571,\n",
       "          0.02701641,  0.64497067,  0.77909851,  0.50096987,  0.31741862],\n",
       "        [ 0.46688492,  0.62714761,  0.39683417,  0.48842407,  0.64705258,\n",
       "          0.59501209,  0.49181127,  0.44155204,  0.40261271,  0.54197277],\n",
       "        [ 0.57802524,  0.69759975,  0.73867171,  0.2290969 ,  0.31493807,\n",
       "          0.2411953 ,  0.33590779,  0.70867531,  0.2163648 ,  0.62497159],\n",
       "        [ 0.38670498,  0.08303942,  0.87517456,  0.81367146,  0.728324  ,\n",
       "          0.4371208 ,  0.69226604,  0.26881977,  0.56627153,  0.2639127 ],\n",
       "        [ 0.46552772,  0.50709674,  0.49143134,  0.50393124,  0.55974366,\n",
       "          0.34262238,  0.8022344 ,  0.40402395,  0.65083098,  0.50626378],\n",
       "        [ 0.56199092,  0.23874849,  0.69748995,  0.68631231,  0.54617532,\n",
       "          0.18771345,  0.69421398,  0.46267524,  0.49862801,  0.36201676]]),\n",
       " array([[0.44226864],\n",
       "        [0.15293235],\n",
       "        [0.7528861 ],\n",
       "        [0.09927894],\n",
       "        [0.45467431],\n",
       "        [0.72207388],\n",
       "        [0.12269784],\n",
       "        [0.23741006],\n",
       "        [0.13649649],\n",
       "        [0.45688058]]))"
      ]
     },
     "execution_count": 30,
     "metadata": {},
     "output_type": "execute_result"
    }
   ],
   "source": [
    "gradient_descent(X_train, Y_train, 205, 0.2)"
   ]
  },
  {
   "cell_type": "code",
   "execution_count": 31,
   "id": "9044cd97",
   "metadata": {},
   "outputs": [],
   "source": [
    "def make_predictions(X,W1,b1, W2, b2):\n",
    "     _ ,_, _, A2 = forprop(W1, b1, W2, b2, X)\n",
    "     predictions = pred(A2)\n",
    "     return predictions\n",
    "def test_prediction(index, W1, b1, W2, b2):\n",
    "    current_image = X_train[:, index, None]\n",
    "    prediction = make_predictions(X_train[:, index, None], W1, b1, W2, b2)\n",
    "    label = Y_train[index]\n",
    "    print(\"Prediction: \", prediction)\n",
    "    print(\"Label: \", label)\n",
    "    \n",
    "    current_image = current_image.reshape((28, 28)) * 255\n",
    "    plt.gray()\n",
    "    plt.imshow(current_image, interpolation='nearest')\n",
    "    plt.show()\n",
    "    "
   ]
  },
  {
   "cell_type": "code",
   "execution_count": 32,
   "id": "82101925",
   "metadata": {},
   "outputs": [
    {
     "name": "stdout",
     "output_type": "stream",
     "text": [
      "Iteration 0\n",
      "[3 2 6 ... 6 3 1] [5 1 0 ... 7 5 7]\n",
      "0.059419681171593956\n",
      "Iteration 100\n",
      "[0 1 0 ... 7 5 7] [5 1 0 ... 7 5 7]\n",
      "0.5085002647773131\n",
      "Iteration 200\n",
      "[0 1 0 ... 7 5 7] [5 1 0 ... 7 5 7]\n",
      "0.6019940470755802\n",
      "Iteration 300\n",
      "[0 1 0 ... 7 5 7] [5 1 0 ... 7 5 7]\n",
      "0.6481566020853496\n",
      "Iteration 400\n",
      "[0 1 0 ... 7 5 7] [5 1 0 ... 7 5 7]\n",
      "0.6728265434691306\n"
     ]
    }
   ],
   "source": [
    "W1, b1, W2, b2 = gradient_descent(X_train, Y_train, 500, 0.5)"
   ]
  },
  {
   "cell_type": "code",
   "execution_count": 33,
   "id": "38bf7bf1",
   "metadata": {},
   "outputs": [
    {
     "name": "stdout",
     "output_type": "stream",
     "text": [
      "Prediction:  [4]\n",
      "Label:  4\n"
     ]
    },
    {
     "data": {
      "image/png": "[encoded data removed]",
      "text/plain": [
       "<Figure size 640x480 with 1 Axes>"
      ]
     },
     "metadata": {},
     "output_type": "display_data"
    }
   ],
   "source": [
    "test_prediction(4, W1, b1, W2, b2)"
   ]
  },
  {
   "cell_type": "code",
   "execution_count": 34,
   "id": "99592954",
   "metadata": {},
   "outputs": [
    {
     "name": "stdout",
     "output_type": "stream",
     "text": [
      "Prediction:  [7]\n",
      "Label:  7\n"
     ]
    },
    {
     "data": {
      "image/png": "[encoded data removed]",
      "text/plain": [
       "<Figure size 640x480 with 1 Axes>"
      ]
     },
     "metadata": {},
     "output_type": "display_data"
    }
   ],
   "source": [
    "test_prediction(18, W1, b1, W2, b2)"
   ]
  },
  {
   "cell_type": "code",
   "execution_count": 35,
   "id": "fe1f3835",
   "metadata": {},
   "outputs": [
    {
     "name": "stdout",
     "output_type": "stream",
     "text": [
      "Prediction:  [6]\n",
      "Label:  6\n"
     ]
    },
    {
     "data": {
      "image/png": "[encoded data removed]",
      "text/plain": [
       "<Figure size 640x480 with 1 Axes>"
      ]
     },
     "metadata": {},
     "output_type": "display_data"
    }
   ],
   "source": [
    "test_prediction(200, W1, b1, W2, b2)"
   ]
  },
  {
   "cell_type": "code",
   "execution_count": 36,
   "id": "c663f805",
   "metadata": {},
   "outputs": [
    {
     "name": "stdout",
     "output_type": "stream",
     "text": [
      "Prediction:  [2]\n",
      "Label:  3\n"
     ]
    },
    {
     "data": {
      "image/png": "[encoded data removed]",
      "text/plain": [
       "<Figure size 640x480 with 1 Axes>"
      ]
     },
     "metadata": {},
     "output_type": "display_data"
    }
   ],
   "source": [
    "test_prediction(940, W1, b1, W2, b2)"
   ]
  },
  {
   "cell_type": "code",
   "execution_count": 37,
   "id": "63590b90",
   "metadata": {},
   "outputs": [],
   "source": [
    "df_test = pd.read_csv('mnist_test.csv')\n",
    "p,k = df_test.shape"
   ]
  },
  {
   "cell_type": "code",
   "execution_count": 38,
   "id": "dff5e116",
   "metadata": {},
   "outputs": [],
   "source": [
    "data_test = np.array(df_test).T\n",
    "Y_test = data_test[0]\n",
    "X_test = data_test[1:k]\n",
    "\n",
    "def make_predictions_test(X,W1,b1, W2, b2):\n",
    "     _ ,_, _, A2 = forprop(W1, b1, W2, b2, X)\n",
    "     predictions = pred(A2)\n",
    "     return predictions\n",
    "def test_prediction_test(index, W1, b1, W2, b2):\n",
    "    current_image = X_test[:, index, None]\n",
    "    prediction = make_predictions(X_test[:, index, None], W1, b1, W2, b2)\n",
    "    label = Y_test[index]\n",
    "    print(\"Prediction: \", prediction)\n",
    "    print(\"Label: \", label)\n",
    "    \n",
    "    current_image = current_image.reshape((28, 28)) * 255\n",
    "    plt.gray()\n",
    "    plt.imshow(current_image, interpolation='nearest')\n",
    "    plt.show()\n",
    "    \n"
   ]
  },
  {
   "cell_type": "code",
   "execution_count": 39,
   "id": "9cc50068",
   "metadata": {},
   "outputs": [
    {
     "data": {
      "image/png": "[encoded data removed]",
      "text/plain": [
       "<Figure size 640x480 with 1 Axes>"
      ]
     },
     "metadata": {},
     "output_type": "display_data"
    }
   ],
   "source": [
    "current_image = X_test[:, 2]\n",
    "current_image = current_image.reshape(28, 28)\n",
    "plt.imshow(current_image, cmap=\"gray\")\n",
    "plt.axis(\"off\")\n",
    "plt.show()\n",
    "\n"
   ]
  },
  {
   "cell_type": "code",
   "execution_count": 40,
   "id": "46a3d44f",
   "metadata": {},
   "outputs": [
    {
     "name": "stdout",
     "output_type": "stream",
     "text": [
      "Prediction:  [0]\n",
      "Label:  0\n"
     ]
    },
    {
     "data": {
      "image/png": "[encoded data removed]",
      "text/plain": [
       "<Figure size 640x480 with 1 Axes>"
      ]
     },
     "metadata": {},
     "output_type": "display_data"
    }
   ],
   "source": [
    "test_prediction_test(10, W1, b1, W2, b2)"
   ]
  },
  {
   "cell_type": "code",
   "execution_count": 41,
   "id": "b7f5d9d1",
   "metadata": {},
   "outputs": [
    {
     "name": "stdout",
     "output_type": "stream",
     "text": [
      "Prediction:  [3]\n",
      "Label:  3\n"
     ]
    },
    {
     "data": {
      "image/png": "[encoded data removed]",
      "text/plain": [
       "<Figure size 640x480 with 1 Axes>"
      ]
     },
     "metadata": {},
     "output_type": "display_data"
    }
   ],
   "source": [
    "test_prediction_test(200,W1, b1, W2, b2)"
   ]
  },
  {
   "cell_type": "code",
   "execution_count": 42,
   "id": "dbe127e7",
   "metadata": {},
   "outputs": [
    {
     "name": "stdout",
     "output_type": "stream",
     "text": [
      "Prediction:  [7]\n",
      "Label:  9\n"
     ]
    },
    {
     "data": {
      "image/png": "[encoded data removed]",
      "text/plain": [
       "<Figure size 640x480 with 1 Axes>"
      ]
     },
     "metadata": {},
     "output_type": "display_data"
    }
   ],
   "source": [
    "test_prediction_test(20,W1, b1, W2, b2)"
   ]
  },
  {
   "cell_type": "markdown",
   "id": "fe4dc1c3",
   "metadata": {},
   "source": [
    "Second Part"
   ]
  },
  {
   "cell_type": "code",
   "execution_count": 47,
   "id": "4c4438d2",
   "metadata": {},
   "outputs": [],
   "source": [
    "import torch\n",
    "import torch.nn as nn\n",
    "from torch.nn import functional as F\n",
    "from torch.utils.data import DataLoader\n",
    "from torch.utils.data import random_split\n",
    "from torchvision.datasets import MNIST\n",
    "import matplotlib.pyplot as plt\n",
    "import numpy as np\n",
    "import skimage\n",
    "from skimage import io\n",
    "import numpy as np\n",
    "import cv2\n",
    "import torchvision\n",
    "import torchvision.transforms as transforms\n"
   ]
  },
  {
   "cell_type": "code",
   "execution_count": 53,
   "id": "fab03ec1",
   "metadata": {},
   "outputs": [
    {
     "name": "stdout",
     "output_type": "stream",
     "text": [
      "Epoch 10/10: val_acc = 0.9652\n"
     ]
    }
   ],
   "source": [
    "dataset = MNIST(root='./data', train= True, download=True, transform= transforms.ToTensor())\n",
    "mnist_train, mnist_val = random_split(dataset, [55000,5000])\n",
    "\n",
    "train_loader = DataLoader(mnist_train, batch_size = 128,drop_last = True, shuffle = True)\n",
    "val_loader = DataLoader(mnist_val, batch_size = 128, drop_last= False, shuffle = True)\n",
    "\n",
    "\n",
    "model = nn.Sequential(nn.Flatten(),\n",
    "                            nn.Linear(784,128), \n",
    "                            nn.ReLU(),\n",
    "                            nn.Linear(128,10)                             \n",
    ")\n",
    "\n",
    "loss = nn.CrossEntropyLoss()\n",
    "learning_rate = 0.01\n",
    "optimizer = torch.optim.Adam(model.parameters(),lr = learning_rate)\n",
    "\n",
    "device = torch.device(\"cuda\" if torch.cuda.is_available() else \"cpu\")\n",
    "model.to(device)\n",
    "\n",
    "#Training\n",
    "model.train()\n",
    "n_epochs = 10\n",
    "for epoch in range(n_epochs):\n",
    "    for xb, yb in train_loader:\n",
    "        xb, yb = xb.to(device), yb.to(device)\n",
    "        optimizer.zero_grad()\n",
    "        output = model(xb)\n",
    "        l = loss(output, yb)\n",
    "        l.backward()\n",
    "        optimizer.step()\n",
    "\n",
    "#Validation\n",
    "model.eval()\n",
    "total_correct = 0\n",
    "total_samples = 0\n",
    "with torch.no_grad():\n",
    "    for xb, yb in val_loader:\n",
    "        xb, yb = xb.to(device), yb.to(device)\n",
    "        output = model(xb)\n",
    "        pred = output.argmax(dim=1)  \n",
    "        total_correct += (pred == yb).sum().item()\n",
    "        total_samples += yb.size(0)\n",
    "    val_acc = total_correct / total_samples\n",
    "    print(f\"Epoch {epoch+1}/{n_epochs}: val_acc = {val_acc:.4f}\")\n"
   ]
  },
  {
   "cell_type": "code",
   "execution_count": null,
   "id": "1a492890",
   "metadata": {},
   "outputs": [],
   "source": []
  }
 ],
 "metadata": {
  "kernelspec": {
   "display_name": "base",
   "language": "python",
   "name": "python3"
  },
  "language_info": {
   "codemirror_mode": {
    "name": "ipython",
    "version": 3
   },
   "file_extension": ".py",
   "mimetype": "text/x-python",
   "name": "python",
   "nbconvert_exporter": "python",
   "pygments_lexer": "ipython3",
   "version": "3.12.4"
  }
 },
 "nbformat": 4,
 "nbformat_minor": 5
}

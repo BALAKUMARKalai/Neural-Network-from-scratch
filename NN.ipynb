{
 "cells": [
  {
   "cell_type": "markdown",
   "id": "62817820",
   "metadata": {},
   "source": [
    "**Part 1 : Coding a NN from scratch to predict the label of MNIST images**"
   ]
  },
  {
   "cell_type": "code",
   "execution_count": 7,
   "id": "80ddd9ee",
   "metadata": {},
   "outputs": [],
   "source": [
    "import pandas as pd\n",
    "import matplotlib.pyplot as plt\n",
    "import numpy as np"
   ]
  },
  {
   "cell_type": "code",
   "execution_count": 42,
   "id": "9040dc81",
   "metadata": {},
   "outputs": [
    {
     "data": {
      "text/html": [
       "<div>\n",
       "<style scoped>\n",
       "    .dataframe tbody tr th:only-of-type {\n",
       "        vertical-align: middle;\n",
       "    }\n",
       "\n",
       "    .dataframe tbody tr th {\n",
       "        vertical-align: top;\n",
       "    }\n",
       "\n",
       "    .dataframe thead th {\n",
       "        text-align: right;\n",
       "    }\n",
       "</style>\n",
       "<table border=\"1\" class=\"dataframe\">\n",
       "  <thead>\n",
       "    <tr style=\"text-align: right;\">\n",
       "      <th></th>\n",
       "      <th>label</th>\n",
       "      <th>1x1</th>\n",
       "      <th>1x2</th>\n",
       "      <th>1x3</th>\n",
       "      <th>1x4</th>\n",
       "      <th>1x5</th>\n",
       "      <th>1x6</th>\n",
       "      <th>1x7</th>\n",
       "      <th>1x8</th>\n",
       "      <th>1x9</th>\n",
       "      <th>...</th>\n",
       "      <th>28x19</th>\n",
       "      <th>28x20</th>\n",
       "      <th>28x21</th>\n",
       "      <th>28x22</th>\n",
       "      <th>28x23</th>\n",
       "      <th>28x24</th>\n",
       "      <th>28x25</th>\n",
       "      <th>28x26</th>\n",
       "      <th>28x27</th>\n",
       "      <th>28x28</th>\n",
       "    </tr>\n",
       "  </thead>\n",
       "  <tbody>\n",
       "    <tr>\n",
       "      <th>0</th>\n",
       "      <td>5</td>\n",
       "      <td>0</td>\n",
       "      <td>0</td>\n",
       "      <td>0</td>\n",
       "      <td>0</td>\n",
       "      <td>0</td>\n",
       "      <td>0</td>\n",
       "      <td>0</td>\n",
       "      <td>0</td>\n",
       "      <td>0</td>\n",
       "      <td>...</td>\n",
       "      <td>0</td>\n",
       "      <td>0</td>\n",
       "      <td>0</td>\n",
       "      <td>0</td>\n",
       "      <td>0</td>\n",
       "      <td>0</td>\n",
       "      <td>0</td>\n",
       "      <td>0</td>\n",
       "      <td>0</td>\n",
       "      <td>0</td>\n",
       "    </tr>\n",
       "    <tr>\n",
       "      <th>1</th>\n",
       "      <td>0</td>\n",
       "      <td>0</td>\n",
       "      <td>0</td>\n",
       "      <td>0</td>\n",
       "      <td>0</td>\n",
       "      <td>0</td>\n",
       "      <td>0</td>\n",
       "      <td>0</td>\n",
       "      <td>0</td>\n",
       "      <td>0</td>\n",
       "      <td>...</td>\n",
       "      <td>0</td>\n",
       "      <td>0</td>\n",
       "      <td>0</td>\n",
       "      <td>0</td>\n",
       "      <td>0</td>\n",
       "      <td>0</td>\n",
       "      <td>0</td>\n",
       "      <td>0</td>\n",
       "      <td>0</td>\n",
       "      <td>0</td>\n",
       "    </tr>\n",
       "    <tr>\n",
       "      <th>2</th>\n",
       "      <td>4</td>\n",
       "      <td>0</td>\n",
       "      <td>0</td>\n",
       "      <td>0</td>\n",
       "      <td>0</td>\n",
       "      <td>0</td>\n",
       "      <td>0</td>\n",
       "      <td>0</td>\n",
       "      <td>0</td>\n",
       "      <td>0</td>\n",
       "      <td>...</td>\n",
       "      <td>0</td>\n",
       "      <td>0</td>\n",
       "      <td>0</td>\n",
       "      <td>0</td>\n",
       "      <td>0</td>\n",
       "      <td>0</td>\n",
       "      <td>0</td>\n",
       "      <td>0</td>\n",
       "      <td>0</td>\n",
       "      <td>0</td>\n",
       "    </tr>\n",
       "    <tr>\n",
       "      <th>3</th>\n",
       "      <td>1</td>\n",
       "      <td>0</td>\n",
       "      <td>0</td>\n",
       "      <td>0</td>\n",
       "      <td>0</td>\n",
       "      <td>0</td>\n",
       "      <td>0</td>\n",
       "      <td>0</td>\n",
       "      <td>0</td>\n",
       "      <td>0</td>\n",
       "      <td>...</td>\n",
       "      <td>0</td>\n",
       "      <td>0</td>\n",
       "      <td>0</td>\n",
       "      <td>0</td>\n",
       "      <td>0</td>\n",
       "      <td>0</td>\n",
       "      <td>0</td>\n",
       "      <td>0</td>\n",
       "      <td>0</td>\n",
       "      <td>0</td>\n",
       "    </tr>\n",
       "    <tr>\n",
       "      <th>4</th>\n",
       "      <td>9</td>\n",
       "      <td>0</td>\n",
       "      <td>0</td>\n",
       "      <td>0</td>\n",
       "      <td>0</td>\n",
       "      <td>0</td>\n",
       "      <td>0</td>\n",
       "      <td>0</td>\n",
       "      <td>0</td>\n",
       "      <td>0</td>\n",
       "      <td>...</td>\n",
       "      <td>0</td>\n",
       "      <td>0</td>\n",
       "      <td>0</td>\n",
       "      <td>0</td>\n",
       "      <td>0</td>\n",
       "      <td>0</td>\n",
       "      <td>0</td>\n",
       "      <td>0</td>\n",
       "      <td>0</td>\n",
       "      <td>0</td>\n",
       "    </tr>\n",
       "  </tbody>\n",
       "</table>\n",
       "<p>5 rows × 785 columns</p>\n",
       "</div>"
      ],
      "text/plain": [
       "   label  1x1  1x2  1x3  1x4  1x5  1x6  1x7  1x8  1x9  ...  28x19  28x20  \\\n",
       "0      5    0    0    0    0    0    0    0    0    0  ...      0      0   \n",
       "1      0    0    0    0    0    0    0    0    0    0  ...      0      0   \n",
       "2      4    0    0    0    0    0    0    0    0    0  ...      0      0   \n",
       "3      1    0    0    0    0    0    0    0    0    0  ...      0      0   \n",
       "4      9    0    0    0    0    0    0    0    0    0  ...      0      0   \n",
       "\n",
       "   28x21  28x22  28x23  28x24  28x25  28x26  28x27  28x28  \n",
       "0      0      0      0      0      0      0      0      0  \n",
       "1      0      0      0      0      0      0      0      0  \n",
       "2      0      0      0      0      0      0      0      0  \n",
       "3      0      0      0      0      0      0      0      0  \n",
       "4      0      0      0      0      0      0      0      0  \n",
       "\n",
       "[5 rows x 785 columns]"
      ]
     },
     "execution_count": 42,
     "metadata": {},
     "output_type": "execute_result"
    }
   ],
   "source": [
    "df_train= pd.read_csv('mnist_train.csv')\n",
    "df_train.head()\n"
   ]
  },
  {
   "cell_type": "code",
   "execution_count": 44,
   "id": "5ff1bf7d",
   "metadata": {},
   "outputs": [
    {
     "data": {
      "text/plain": [
       "label    0\n",
       "1x1      0\n",
       "1x2      0\n",
       "1x3      0\n",
       "1x4      0\n",
       "        ..\n",
       "28x24    0\n",
       "28x25    0\n",
       "28x26    0\n",
       "28x27    0\n",
       "28x28    0\n",
       "Length: 785, dtype: int64"
      ]
     },
     "execution_count": 44,
     "metadata": {},
     "output_type": "execute_result"
    }
   ],
   "source": [
    "df_train.isnull().sum()"
   ]
  },
  {
   "cell_type": "code",
   "execution_count": 9,
   "id": "8203ca17",
   "metadata": {},
   "outputs": [
    {
     "name": "stdout",
     "output_type": "stream",
     "text": [
      "(55763, 785)\n"
     ]
    }
   ],
   "source": [
    "\"\"\"X = df_train.iloc[:,0:].values\n",
    "Y = df_train.iloc[:,0].values\"\"\"\n",
    "\n",
    "print(df_train.shape)\n",
    "data_train = np.array(df_train)\n",
    "m, n = data_train.shape\n",
    "np.random.shuffle(data_train)\n",
    "\n",
    "data_train = data_train[1000:m].T\n",
    "Y_train = data_train[0]\n",
    "X_train = data_train[1:n]\n",
    "X_train = X_train / 255.\n",
    "_,m_train = X_train.shape\n",
    "\n"
   ]
  },
  {
   "cell_type": "code",
   "execution_count": 10,
   "id": "25d03f84",
   "metadata": {},
   "outputs": [
    {
     "data": {
      "text/plain": [
       "((784,), (54763,))"
      ]
     },
     "execution_count": 10,
     "metadata": {},
     "output_type": "execute_result"
    }
   ],
   "source": [
    "X_train[:,0].shape, Y_train.shape"
   ]
  },
  {
   "cell_type": "code",
   "execution_count": 11,
   "id": "a1181069",
   "metadata": {},
   "outputs": [
    {
     "data": {
      "text/plain": [
       "(784, 54763)"
      ]
     },
     "execution_count": 11,
     "metadata": {},
     "output_type": "execute_result"
    }
   ],
   "source": [
    "X_train.shape"
   ]
  },
  {
   "cell_type": "code",
   "execution_count": 12,
   "id": "67a4aa8a",
   "metadata": {},
   "outputs": [],
   "source": [
    "def reLU(Z):\n",
    "    return np.maximum(0,Z)\n",
    "\n",
    "def derivative_reLU(Z): \n",
    "    return Z>0\n",
    "\n",
    "def softmax(Z):\n",
    "    expZ = np.exp(Z - np.max(Z, axis=0, keepdims=True))\n",
    "    return expZ / np.sum(expZ, axis=0, keepdims=True)\n",
    "\n",
    "    \n",
    "\n",
    "def init_params():\n",
    "    W1 = np.random.randn(128 ,784)\n",
    "    b1 = np.random.randn(128,1)\n",
    "    W2 = np.random.rand(10,128 )\n",
    "    b2 = np.random.rand(10,1)\n",
    "    return W1, b1, W2, b2\n",
    "\n",
    "\n",
    "def forprop(W1, b1, W2, b2, X):\n",
    "     Z1 = W1.dot(X) + b1\n",
    "     A1 =  reLU(Z1)\n",
    "     Z2 = W2.dot(A1) + b2\n",
    "     A2 = softmax(Z2)\n",
    "     return Z1, A1, Z2, A2\n",
    "\n",
    "def one_hot(Y):\n",
    "    one_hot_Y = np.zeros((Y.size, Y.max() + 1))\n",
    "    one_hot_Y[np.arange(Y.size),Y] = 1\n",
    "    one_hot_Y = one_hot_Y.T\n",
    "    return one_hot_Y\n",
    "\n",
    "def backprop(Z1, Z2, A1, A2, W1, W2, X, Y):\n",
    "    m = Y.size\n",
    "    one_hot_Y = one_hot(Y)\n",
    "    dZ2 = A2 - one_hot_Y\n",
    "    dW2 = 1/m * dZ2.dot(A1.T)\n",
    "    db2 = 1/m * np.sum(dZ2)\n",
    "    dZ1 = W2.T.dot(dZ2) * derivative_reLU(Z1)\n",
    "    dW1 = 1/m * dZ1.dot(X.T) \n",
    "    db1 = 1/m * np.sum(dZ1)\n",
    "    return dW1,db1, dW2, db2\n",
    "    \n",
    "def params_update(W1, b1, W2, b2, dW1, db1, dW2, db2, alpha):\n",
    "    W1 = W1 - alpha * dW1\n",
    "    b1 = b1 - alpha * db1\n",
    "    W2 = W2 - alpha * dW2\n",
    "    b2 = b2 - alpha * db2\n",
    "    return W1, b1, W2, b2\n",
    "\n",
    "\n",
    "\n",
    "    "
   ]
  },
  {
   "cell_type": "code",
   "execution_count": null,
   "id": "e8c5a094",
   "metadata": {},
   "outputs": [],
   "source": [
    "def pred(A2):\n",
    "    return np.argmax(A2, axis=0)\n",
    "def accuracy(predictions, Y):\n",
    "    print(predictions, Y)\n",
    "    return np.sum(predictions == Y) / Y.size\n",
    "\n",
    "def gradient_descent(X, Y, iterations, alpha):\n",
    "    W1,b1, W2, b2 = init_params()\n",
    "    for i in range(iterations):\n",
    "        Z1, A1, Z2, A2 = forprop(W1, b1, W2, b2, X_train)\n",
    "        dW1, db1, dW2, db2= backprop(Z1, Z2, A1, A2, W1, W2, X, Y)\n",
    "        W1, b1, W2, b2 = params_update(W1, b1, W2, b2, dW1, db1, dW2, db2, alpha)\n",
    "        if i%10 == 0:\n",
    "            print(f'Iteration {i}')\n",
    "            predictions = pred(A2)\n",
    "            print(accuracy(predictions, Y))\n",
    "    return W1, b1, W2, b2\n",
    "\n"
   ]
  },
  {
   "cell_type": "code",
   "execution_count": 23,
   "id": "01ea30bb",
   "metadata": {},
   "outputs": [
    {
     "name": "stdout",
     "output_type": "stream",
     "text": [
      "Iteration 0\n",
      "[3 3 6 ... 3 3 3] [9 9 4 ... 5 0 0]\n",
      "0.08553220239943027\n",
      "Iteration 5\n",
      "[4 4 4 ... 5 0 4] [9 9 4 ... 5 0 0]\n",
      "0.358234574438946\n",
      "Iteration 10\n",
      "[9 9 4 ... 5 0 4] [9 9 4 ... 5 0 0]\n",
      "0.6385698372989062\n",
      "Iteration 15\n",
      "[9 9 4 ... 5 0 0] [9 9 4 ... 5 0 0]\n",
      "0.674835198948195\n",
      "Iteration 20\n",
      "[9 9 4 ... 5 0 0] [9 9 4 ... 5 0 0]\n",
      "0.6975877873746873\n",
      "Iteration 25\n",
      "[9 9 4 ... 5 0 0] [9 9 4 ... 5 0 0]\n",
      "0.7149535270164162\n",
      "Iteration 30\n",
      "[9 9 4 ... 5 0 0] [9 9 4 ... 5 0 0]\n",
      "0.728521081752278\n",
      "Iteration 35\n",
      "[9 9 4 ... 5 0 0] [9 9 4 ... 5 0 0]\n",
      "0.7381626280517868\n",
      "Iteration 40\n",
      "[9 9 4 ... 5 0 0] [9 9 4 ... 5 0 0]\n",
      "0.7475302667859687\n",
      "Iteration 45\n",
      "[9 9 4 ... 5 0 0] [9 9 4 ... 5 0 0]\n",
      "0.7542683928930117\n",
      "Iteration 50\n",
      "[9 9 4 ... 5 0 0] [9 9 4 ... 5 0 0]\n",
      "0.760896955973924\n",
      "Iteration 55\n",
      "[9 9 4 ... 5 0 0] [9 9 4 ... 5 0 0]\n",
      "0.7660646787064259\n"
     ]
    },
    {
     "data": {
      "text/plain": [
       "(array([[ 0.08622901, -0.04193227,  0.743688  , ..., -0.83814288,\n",
       "          1.39578015,  0.82929811],\n",
       "        [-0.08842621,  1.11398161,  0.32358295, ..., -1.10177068,\n",
       "          0.63524903, -1.55168581],\n",
       "        [-1.78692993,  0.42468809, -0.57064786, ..., -0.31313735,\n",
       "          0.08562102,  1.28120172],\n",
       "        ...,\n",
       "        [ 1.74385963,  0.12086554,  0.59040337, ...,  2.91389683,\n",
       "          1.14199563,  1.00135043],\n",
       "        [-0.70400959, -0.73184978, -1.25898431, ...,  0.23769355,\n",
       "         -0.19518904, -2.49690968],\n",
       "        [-0.62464176, -0.38143827,  0.62434088, ...,  0.38973284,\n",
       "          0.2576284 , -0.86439233]]),\n",
       " array([[-5.23053713],\n",
       "        [-4.04441224],\n",
       "        [-3.15640084],\n",
       "        [-3.96956426],\n",
       "        [-3.96660764],\n",
       "        [-5.94031574],\n",
       "        [-3.21955793],\n",
       "        [-4.11106314],\n",
       "        [-5.46543375],\n",
       "        [-4.61558253],\n",
       "        [-3.75225269],\n",
       "        [-4.37010851],\n",
       "        [-5.21011442],\n",
       "        [-3.4791423 ],\n",
       "        [-5.58317088],\n",
       "        [-3.50747714],\n",
       "        [-4.53015253],\n",
       "        [-4.92787133],\n",
       "        [-4.75979062],\n",
       "        [-4.00113753],\n",
       "        [-4.03728573],\n",
       "        [-5.1528364 ],\n",
       "        [-4.48831908],\n",
       "        [-5.33202859],\n",
       "        [-3.49722066],\n",
       "        [-3.71370506],\n",
       "        [-4.72109376],\n",
       "        [-3.50943113],\n",
       "        [-4.77340314],\n",
       "        [-3.84956837],\n",
       "        [-3.87763821],\n",
       "        [-5.33667405],\n",
       "        [-4.68628481],\n",
       "        [-6.88518391],\n",
       "        [-3.66938364],\n",
       "        [-5.20858114],\n",
       "        [-3.16426556],\n",
       "        [-3.15435803],\n",
       "        [-4.20136727],\n",
       "        [-5.13465242],\n",
       "        [-3.07685738],\n",
       "        [-4.19115905],\n",
       "        [-6.13994325],\n",
       "        [-3.64567112],\n",
       "        [-5.2876703 ],\n",
       "        [-4.61246554],\n",
       "        [-5.02730056],\n",
       "        [-4.09683618],\n",
       "        [-3.5260843 ],\n",
       "        [-3.02024762],\n",
       "        [-3.34406512],\n",
       "        [-4.19074634],\n",
       "        [-3.59992029],\n",
       "        [-3.6860397 ],\n",
       "        [-4.32435078],\n",
       "        [-4.40009957],\n",
       "        [-2.27474911],\n",
       "        [-6.20497728],\n",
       "        [-3.60978734],\n",
       "        [-5.79162722],\n",
       "        [-4.0788205 ],\n",
       "        [-6.02534701],\n",
       "        [-5.32777417],\n",
       "        [-5.15142567],\n",
       "        [-4.74240862],\n",
       "        [-5.11705261],\n",
       "        [-4.32099526],\n",
       "        [-6.38992698],\n",
       "        [-3.37259408],\n",
       "        [-3.37751191],\n",
       "        [-5.90507514],\n",
       "        [-2.93236769],\n",
       "        [-3.96225092],\n",
       "        [-4.74080368],\n",
       "        [-6.23307997],\n",
       "        [-3.75691911],\n",
       "        [-4.54871231],\n",
       "        [-5.61576668],\n",
       "        [-2.93562415],\n",
       "        [-5.43653041],\n",
       "        [-3.68587838],\n",
       "        [-5.74698668],\n",
       "        [-3.23258737],\n",
       "        [-4.93681962],\n",
       "        [-3.26906184],\n",
       "        [-4.60807133],\n",
       "        [-5.49817184],\n",
       "        [-5.71805003],\n",
       "        [-3.90153191],\n",
       "        [-3.6868317 ],\n",
       "        [-6.34680325],\n",
       "        [-3.57999309],\n",
       "        [-5.9536126 ],\n",
       "        [-3.65234841],\n",
       "        [-4.49616097],\n",
       "        [-5.76112406],\n",
       "        [-4.59351962],\n",
       "        [-4.13815108],\n",
       "        [-4.4288263 ],\n",
       "        [-3.48199212],\n",
       "        [-4.48010668],\n",
       "        [-5.11249845],\n",
       "        [-5.46256834],\n",
       "        [-5.0047515 ],\n",
       "        [-3.4836701 ],\n",
       "        [-3.89141271],\n",
       "        [-4.73302409],\n",
       "        [-6.03162085],\n",
       "        [-2.5459518 ],\n",
       "        [-5.2264599 ],\n",
       "        [-3.98816307],\n",
       "        [-5.70192827],\n",
       "        [-3.46812144],\n",
       "        [-3.75523062],\n",
       "        [-5.13852502],\n",
       "        [-5.22031292],\n",
       "        [-4.65677107],\n",
       "        [-4.70686057],\n",
       "        [-4.35274821],\n",
       "        [-4.78088302],\n",
       "        [-4.37965592],\n",
       "        [-4.58106332],\n",
       "        [-5.84662118],\n",
       "        [-3.65406063],\n",
       "        [-4.36934206],\n",
       "        [-4.113004  ],\n",
       "        [-4.90722758],\n",
       "        [-4.13516185]]),\n",
       " array([[0.27690177, 0.84805207, 0.06477145, ..., 0.97819692, 0.48262294,\n",
       "         0.1274762 ],\n",
       "        [0.31196849, 0.92770105, 0.48579023, ..., 0.48014863, 0.62774148,\n",
       "         0.46654633],\n",
       "        [0.49358704, 0.23344519, 0.27708094, ..., 0.39640887, 0.49367207,\n",
       "         0.50091556],\n",
       "        ...,\n",
       "        [0.69188377, 0.15344602, 0.41544974, ..., 0.70624634, 0.5567978 ,\n",
       "         0.21125501],\n",
       "        [0.76583409, 0.0968666 , 0.65654109, ..., 0.14519697, 0.60752679,\n",
       "         0.1839422 ],\n",
       "        [0.69879016, 0.28626269, 0.62607109, ..., 0.68673023, 0.40963436,\n",
       "         0.27757045]]),\n",
       " array([[0.17080668],\n",
       "        [0.91564258],\n",
       "        [0.9100768 ],\n",
       "        [0.09535105],\n",
       "        [0.44224063],\n",
       "        [0.00790369],\n",
       "        [0.21334564],\n",
       "        [0.61067347],\n",
       "        [0.45897103],\n",
       "        [0.95720235]]))"
      ]
     },
     "execution_count": 23,
     "metadata": {},
     "output_type": "execute_result"
    }
   ],
   "source": [
    "gradient_descent(X_train, Y_train, 60, 0.15)"
   ]
  },
  {
   "cell_type": "code",
   "execution_count": 24,
   "id": "9044cd97",
   "metadata": {},
   "outputs": [],
   "source": [
    "def make_predictions(X,W1,b1, W2, b2):\n",
    "     _ ,_, _, A2 = forprop(W1, b1, W2, b2, X)\n",
    "     predictions = pred(A2)\n",
    "     return predictions\n",
    "def test_prediction(index, W1, b1, W2, b2):\n",
    "    current_image = X_train[:, index, None]\n",
    "    prediction = make_predictions(X_train[:, index, None], W1, b1, W2, b2)\n",
    "    label = Y_train[index]\n",
    "    print(\"Prediction: \", prediction)\n",
    "    print(\"Label: \", label)\n",
    "    \n",
    "    current_image = current_image.reshape((28, 28)) * 255\n",
    "    plt.gray()\n",
    "    plt.imshow(current_image, interpolation='nearest')\n",
    "    plt.show()\n",
    "    "
   ]
  },
  {
   "cell_type": "code",
   "execution_count": 27,
   "id": "82101925",
   "metadata": {},
   "outputs": [
    {
     "name": "stdout",
     "output_type": "stream",
     "text": [
      "Iteration 0\n",
      "[8 8 8 ... 8 3 3] [9 9 4 ... 5 0 0]\n",
      "0.11018388327885616\n",
      "Iteration 5\n",
      "[4 7 2 ... 4 0 0] [9 9 4 ... 5 0 0]\n",
      "0.4758687434946953\n",
      "Iteration 10\n",
      "[8 9 2 ... 5 0 0] [9 9 4 ... 5 0 0]\n",
      "0.6586016105764841\n",
      "Iteration 15\n",
      "[8 9 2 ... 5 0 0] [9 9 4 ... 5 0 0]\n",
      "0.6966199806438654\n",
      "Iteration 20\n",
      "[8 9 2 ... 5 0 0] [9 9 4 ... 5 0 0]\n",
      "0.7190621404963206\n",
      "Iteration 25\n",
      "[8 9 2 ... 5 0 0] [9 9 4 ... 5 0 0]\n",
      "0.7357522414769095\n",
      "Iteration 30\n",
      "[8 9 2 ... 5 0 0] [9 9 4 ... 5 0 0]\n",
      "0.7484432920037252\n",
      "Iteration 35\n",
      "[8 9 2 ... 5 0 0] [9 9 4 ... 5 0 0]\n",
      "0.7593265525993828\n",
      "Iteration 40\n",
      "[9 9 9 ... 5 0 0] [9 9 4 ... 5 0 0]\n",
      "0.7674524770374158\n",
      "Iteration 45\n",
      "[9 9 9 ... 5 0 0] [9 9 4 ... 5 0 0]\n",
      "0.7753775359275423\n",
      "Iteration 50\n",
      "[9 9 9 ... 5 0 0] [9 9 4 ... 5 0 0]\n",
      "0.7810017712689225\n",
      "Iteration 55\n",
      "[9 9 9 ... 5 0 0] [9 9 4 ... 5 0 0]\n",
      "0.7862973175319102\n"
     ]
    }
   ],
   "source": [
    "W1, b1, W2, b2 = gradient_descent(X_train, Y_train, 60, 0.15)"
   ]
  },
  {
   "cell_type": "code",
   "execution_count": 28,
   "id": "38bf7bf1",
   "metadata": {},
   "outputs": [
    {
     "name": "stdout",
     "output_type": "stream",
     "text": [
      "Prediction:  [6]\n",
      "Label:  6\n"
     ]
    },
    {
     "data": {
      "image/png": "[encoded data removed]",
      "text/plain": [
       "<Figure size 640x480 with 1 Axes>"
      ]
     },
     "metadata": {},
     "output_type": "display_data"
    }
   ],
   "source": [
    "test_prediction(4, W1, b1, W2, b2)"
   ]
  },
  {
   "cell_type": "code",
   "execution_count": 29,
   "id": "99592954",
   "metadata": {},
   "outputs": [
    {
     "name": "stdout",
     "output_type": "stream",
     "text": [
      "Prediction:  [1]\n",
      "Label:  1\n"
     ]
    },
    {
     "data": {
      "image/png": "[encoded data removed]",
      "text/plain": [
       "<Figure size 640x480 with 1 Axes>"
      ]
     },
     "metadata": {},
     "output_type": "display_data"
    }
   ],
   "source": [
    "test_prediction(18, W1, b1, W2, b2)"
   ]
  },
  {
   "cell_type": "code",
   "execution_count": 35,
   "id": "fe1f3835",
   "metadata": {},
   "outputs": [
    {
     "name": "stdout",
     "output_type": "stream",
     "text": [
      "Prediction:  [6]\n",
      "Label:  6\n"
     ]
    },
    {
     "data": {
      "image/png": "[encoded data removed]",
      "text/plain": [
       "<Figure size 640x480 with 1 Axes>"
      ]
     },
     "metadata": {},
     "output_type": "display_data"
    }
   ],
   "source": [
    "test_prediction(200, W1, b1, W2, b2)"
   ]
  },
  {
   "cell_type": "code",
   "execution_count": 30,
   "id": "c663f805",
   "metadata": {},
   "outputs": [
    {
     "name": "stdout",
     "output_type": "stream",
     "text": [
      "Prediction:  [8]\n",
      "Label:  0\n"
     ]
    },
    {
     "data": {
      "image/png": "[encoded data removed]",
      "text/plain": [
       "<Figure size 640x480 with 1 Axes>"
      ]
     },
     "metadata": {},
     "output_type": "display_data"
    }
   ],
   "source": [
    "test_prediction(940, W1, b1, W2, b2)"
   ]
  },
  {
   "cell_type": "code",
   "execution_count": 31,
   "id": "63590b90",
   "metadata": {},
   "outputs": [],
   "source": [
    "df_test = pd.read_csv('mnist_test.csv')\n",
    "p,k = df_test.shape"
   ]
  },
  {
   "cell_type": "code",
   "execution_count": 32,
   "id": "dff5e116",
   "metadata": {},
   "outputs": [],
   "source": [
    "data_test = np.array(df_test).T\n",
    "Y_test = data_test[0]\n",
    "X_test = data_test[1:k]\n",
    "\n",
    "def make_predictions_test(X,W1,b1, W2, b2):\n",
    "     _ ,_, _, A2 = forprop(W1, b1, W2, b2, X)\n",
    "     predictions = pred(A2)\n",
    "     return predictions\n",
    "def test_prediction_test(index, W1, b1, W2, b2):\n",
    "    current_image = X_test[:, index, None]\n",
    "    prediction = make_predictions(X_test[:, index, None], W1, b1, W2, b2)\n",
    "    label = Y_test[index]\n",
    "    print(\"Prediction: \", prediction)\n",
    "    print(\"Label: \", label)\n",
    "    \n",
    "    current_image = current_image.reshape((28, 28)) * 255\n",
    "    plt.gray()\n",
    "    plt.imshow(current_image, interpolation='nearest')\n",
    "    plt.show()\n",
    "    \n"
   ]
  },
  {
   "cell_type": "code",
   "execution_count": 33,
   "id": "9cc50068",
   "metadata": {},
   "outputs": [
    {
     "data": {
      "image/png": "[encoded data removed]",
      "text/plain": [
       "<Figure size 640x480 with 1 Axes>"
      ]
     },
     "metadata": {},
     "output_type": "display_data"
    }
   ],
   "source": [
    "current_image = X_test[:, 2]\n",
    "current_image = current_image.reshape(28, 28)\n",
    "plt.imshow(current_image, cmap=\"gray\")\n",
    "plt.axis(\"off\")\n",
    "plt.show()\n",
    "\n"
   ]
  },
  {
   "cell_type": "code",
   "execution_count": 34,
   "id": "46a3d44f",
   "metadata": {},
   "outputs": [
    {
     "name": "stdout",
     "output_type": "stream",
     "text": [
      "Prediction:  [0]\n",
      "Label:  0\n"
     ]
    },
    {
     "data": {
      "image/png": "[encoded data removed]",
      "text/plain": [
       "<Figure size 640x480 with 1 Axes>"
      ]
     },
     "metadata": {},
     "output_type": "display_data"
    }
   ],
   "source": [
    "test_prediction_test(10, W1, b1, W2, b2)"
   ]
  },
  {
   "cell_type": "code",
   "execution_count": 35,
   "id": "b7f5d9d1",
   "metadata": {},
   "outputs": [
    {
     "name": "stdout",
     "output_type": "stream",
     "text": [
      "Prediction:  [3]\n",
      "Label:  3\n"
     ]
    },
    {
     "data": {
      "image/png": "[encoded data removed]",
      "text/plain": [
       "<Figure size 640x480 with 1 Axes>"
      ]
     },
     "metadata": {},
     "output_type": "display_data"
    }
   ],
   "source": [
    "test_prediction_test(200,W1, b1, W2, b2)"
   ]
  },
  {
   "cell_type": "code",
   "execution_count": 36,
   "id": "dbe127e7",
   "metadata": {},
   "outputs": [
    {
     "name": "stdout",
     "output_type": "stream",
     "text": [
      "Prediction:  [9]\n",
      "Label:  9\n"
     ]
    },
    {
     "data": {
      "image/png": "[encoded data removed]",
      "text/plain": [
       "<Figure size 640x480 with 1 Axes>"
      ]
     },
     "metadata": {},
     "output_type": "display_data"
    }
   ],
   "source": [
    "test_prediction_test(20,W1, b1, W2, b2)"
   ]
  },
  {
   "cell_type": "markdown",
   "id": "fe4dc1c3",
   "metadata": {},
   "source": [
    "**Second Part : Using Pytorch to predict the label.**"
   ]
  },
  {
   "cell_type": "code",
   "execution_count": 37,
   "id": "4c4438d2",
   "metadata": {},
   "outputs": [],
   "source": [
    "import torch\n",
    "import torch.nn as nn\n",
    "from torch.nn import functional as F\n",
    "from torch.utils.data import DataLoader\n",
    "from torch.utils.data import random_split\n",
    "from torchvision.datasets import MNIST\n",
    "import matplotlib.pyplot as plt\n",
    "import numpy as np\n",
    "import skimage\n",
    "from skimage import io\n",
    "import numpy as np\n",
    "import cv2\n",
    "import torchvision\n",
    "import torchvision.transforms as transforms\n"
   ]
  },
  {
   "cell_type": "code",
   "execution_count": null,
   "id": "fab03ec1",
   "metadata": {},
   "outputs": [
    {
     "name": "stdout",
     "output_type": "stream",
     "text": [
      "epoch 0 = train_acc = 0.9298\n",
      "epoch 1 = train_acc = 0.9476\n",
      "epoch 2 = train_acc = 0.9559\n",
      "epoch 3 = train_acc = 0.9614\n",
      "epoch 4 = train_acc = 0.9647\n",
      "epoch 5 = train_acc = 0.9673\n",
      "epoch 6 = train_acc = 0.9697\n",
      "epoch 7 = train_acc = 0.9715\n",
      "epoch 8 = train_acc = 0.9729\n",
      "epoch 9 = train_acc = 0.9743\n"
     ]
    }
   ],
   "source": [
    "dataset = MNIST(root='./data', train= True, download=True, transform= transforms.ToTensor())\n",
    "mnist_train, mnist_val = random_split(dataset, [55000,5000])\n",
    "\n",
    "train_loader = DataLoader(mnist_train, batch_size = 128,drop_last = True, shuffle = True)\n",
    "val_loader = DataLoader(mnist_val, batch_size = 128, drop_last= False, shuffle = True)\n",
    "\n",
    "\n",
    "\n",
    "model = nn.Sequential(nn.Flatten(),\n",
    "                            nn.Linear(784,128), \n",
    "                            nn.ReLU(),\n",
    "                            nn.Linear(128,10)                             \n",
    ")\n",
    "\n",
    "loss = nn.CrossEntropyLoss()\n",
    "learning_rate = 0.01\n",
    "optimizer = torch.optim.Adam(model.parameters(),lr = learning_rate)\n",
    "\n",
    "device = torch.device(\"cuda\" if torch.cuda.is_available() else \"cpu\")\n",
    "model.to(device)\n",
    "\n",
    "#Training\n",
    "model.train()\n",
    "total_correct_test = 0\n",
    "total_samples_test = 0\n",
    "n_epochs = 10\n",
    "for epoch in range(n_epochs):\n",
    "    for xb, yb in train_loader:\n",
    "        xb, yb = xb.to(device), yb.to(device)\n",
    "        optimizer.zero_grad()\n",
    "        output = model(xb)\n",
    "        l = loss(output, yb)\n",
    "        l.backward()\n",
    "        optimizer.step()\n",
    "        total_correct_test += (output.argmax(dim = 1) == yb).sum().item()\n",
    "        total_samples_test += yb.size(0)\n",
    "        train_acc = total_correct_test/total_samples_test\n",
    "    print(f'epoch {epoch} : train_acc = {train_acc:.4f}')\n",
    "\n",
    "\n",
    "\n"
   ]
  },
  {
   "cell_type": "code",
   "execution_count": 49,
   "id": "785bf93e",
   "metadata": {},
   "outputs": [
    {
     "name": "stdout",
     "output_type": "stream",
     "text": [
      " val_acc = 0.9680\n"
     ]
    }
   ],
   "source": [
    "#Validation\n",
    "model.eval()\n",
    "total_correct = 0\n",
    "total_samples = 0\n",
    "with torch.no_grad():\n",
    "    for xb, yb in val_loader:\n",
    "        xb, yb = xb.to(device), yb.to(device)\n",
    "        output = model(xb)\n",
    "        pred = output.argmax(dim=1)  \n",
    "        total_correct += (pred == yb).sum().item()\n",
    "        total_samples += yb.size(0)\n",
    "    val_acc = total_correct / total_samples\n",
    "    print(f\" val_acc = {val_acc:.4f}\")"
   ]
  },
  {
   "cell_type": "code",
   "execution_count": 54,
   "id": "1a492890",
   "metadata": {},
   "outputs": [
    {
     "name": "stdout",
     "output_type": "stream",
     "text": [
      " test_accuracy = 0.9687\n"
     ]
    }
   ],
   "source": [
    "#Test\n",
    "dataset_test = MNIST(root='./data', train= False , download=True, transform= transforms.ToTensor())\n",
    "mnist_test = DataLoader(dataset_test, batch_size = 128, shuffle = True, drop_last = False)\n",
    "model.eval()\n",
    "total_correct_test = 0\n",
    "total_samples_test = 0\n",
    "all_error_images = []\n",
    "all_imgs, all_true, all_pred = [] , [], []\n",
    "with torch.no_grad():\n",
    "    for xb, yb in mnist_test:\n",
    "        xb, yb = xb.to(device), yb.to(device)\n",
    "        output = model(xb)\n",
    "        pred = output.argmax(dim = 1)\n",
    "        error_idx = ((pred != yb).nonzero(as_tuple=True)[0])\n",
    "        error_image= xb[error_idx].cpu()\n",
    "        true_label = yb[error_idx]\n",
    "        pred_label = pred[error_idx]\n",
    "        all_error_images.append(error_image)\n",
    "        all_pred.append(pred_label)\n",
    "        total_correct_test += (pred ==yb).sum().item()\n",
    "        total_samples_test += yb.size(0)\n",
    "    test_acc = total_correct_test/total_samples_test\n",
    "    print(f\" test_accuracy = {test_acc:.4f}\")\n",
    "    all_error_images = torch.cat(all_error_images, dim=0)\n",
    "    all_pred = torch.cat(all_pred, dim = 0)\n",
    "\n"
   ]
  },
  {
   "cell_type": "code",
   "execution_count": null,
   "id": "657153cc",
   "metadata": {},
   "outputs": [
    {
     "name": "stdout",
     "output_type": "stream",
     "text": [
      "Predicted label : 0\n"
     ]
    },
    {
     "data": {
      "image/png": "[encoded data removed]",
      "text/plain": [
       "<Figure size 640x480 with 1 Axes>"
      ]
     },
     "metadata": {},
     "output_type": "display_data"
    },
    {
     "name": "stdout",
     "output_type": "stream",
     "text": [
      "Predicted label : 2\n"
     ]
    },
    {
     "data": {
      "image/png": "[encoded data removed]",
      "text/plain": [
       "<Figure size 640x480 with 1 Axes>"
      ]
     },
     "metadata": {},
     "output_type": "display_data"
    },
    {
     "name": "stdout",
     "output_type": "stream",
     "text": [
      "Predicted label : 9\n"
     ]
    },
    {
     "data": {
      "image/png": "[encoded data removed]",
      "text/plain": [
       "<Figure size 640x480 with 1 Axes>"
      ]
     },
     "metadata": {},
     "output_type": "display_data"
    },
    {
     "name": "stdout",
     "output_type": "stream",
     "text": [
      "Predicted label : 5\n"
     ]
    },
    {
     "data": {
      "image/png": "[encoded data removed]",
      "text/plain": [
       "<Figure size 640x480 with 1 Axes>"
      ]
     },
     "metadata": {},
     "output_type": "display_data"
    },
    {
     "name": "stdout",
     "output_type": "stream",
     "text": [
      "Predicted label : 6\n"
     ]
    },
    {
     "data": {
      "image/png": "[encoded data removed]",
      "text/plain": [
       "<Figure size 640x480 with 1 Axes>"
      ]
     },
     "metadata": {},
     "output_type": "display_data"
    },
    {
     "name": "stdout",
     "output_type": "stream",
     "text": [
      "Predicted label : 2\n"
     ]
    },
    {
     "data": {
      "image/png": "[encoded data removed]",
      "text/plain": [
       "<Figure size 640x480 with 1 Axes>"
      ]
     },
     "metadata": {},
     "output_type": "display_data"
    },
    {
     "name": "stdout",
     "output_type": "stream",
     "text": [
      "Predicted label : 8\n"
     ]
    },
    {
     "data": {
      "image/png": "[encoded data removed]",
      "text/plain": [
       "<Figure size 640x480 with 1 Axes>"
      ]
     },
     "metadata": {},
     "output_type": "display_data"
    },
    {
     "name": "stdout",
     "output_type": "stream",
     "text": [
      "Predicted label : 8\n"
     ]
    },
    {
     "data": {
      "image/png": "[encoded data removed]",
      "text/plain": [
       "<Figure size 640x480 with 1 Axes>"
      ]
     },
     "metadata": {},
     "output_type": "display_data"
    },
    {
     "name": "stdout",
     "output_type": "stream",
     "text": [
      "Predicted label : 7\n"
     ]
    },
    {
     "data": {
      "image/png": "[encoded data removed]",
      "text/plain": [
       "<Figure size 640x480 with 1 Axes>"
      ]
     },
     "metadata": {},
     "output_type": "display_data"
    },
    {
     "name": "stdout",
     "output_type": "stream",
     "text": [
      "Predicted label : 0\n"
     ]
    },
    {
     "data": {
      "image/png": "[encoded data removed]",
      "text/plain": [
       "<Figure size 640x480 with 1 Axes>"
      ]
     },
     "metadata": {},
     "output_type": "display_data"
    }
   ],
   "source": [
    "for i in range(10):  \n",
    "    print(f'Predicted label : {all_pred[i].item()}')\n",
    "    plt.imshow(all_error_images[i].squeeze(0), cmap='gray')\n",
    "    plt.show()"
   ]
  },
  {
   "cell_type": "code",
   "execution_count": null,
   "id": "a7c97312",
   "metadata": {},
   "outputs": [],
   "source": []
  }
 ],
 "metadata": {
  "kernelspec": {
   "display_name": "base",
   "language": "python",
   "name": "python3"
  },
  "language_info": {
   "codemirror_mode": {
    "name": "ipython",
    "version": 3
   },
   "file_extension": ".py",
   "mimetype": "text/x-python",
   "name": "python",
   "nbconvert_exporter": "python",
   "pygments_lexer": "ipython3",
   "version": "3.12.4"
  }
 },
 "nbformat": 4,
 "nbformat_minor": 5
}

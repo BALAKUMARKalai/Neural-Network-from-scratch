{
 "cells": [
  {
   "cell_type": "code",
   "execution_count": 63,
   "id": "80ddd9ee",
   "metadata": {},
   "outputs": [],
   "source": [
    "import pandas as pd\n",
    "import matplotlib.pyplot as plt\n",
    "import numpy as np"
   ]
  },
  {
   "cell_type": "code",
   "execution_count": 64,
   "id": "9040dc81",
   "metadata": {},
   "outputs": [
    {
     "data": {
      "text/html": [
       "<div>\n",
       "<style scoped>\n",
       "    .dataframe tbody tr th:only-of-type {\n",
       "        vertical-align: middle;\n",
       "    }\n",
       "\n",
       "    .dataframe tbody tr th {\n",
       "        vertical-align: top;\n",
       "    }\n",
       "\n",
       "    .dataframe thead th {\n",
       "        text-align: right;\n",
       "    }\n",
       "</style>\n",
       "<table border=\"1\" class=\"dataframe\">\n",
       "  <thead>\n",
       "    <tr style=\"text-align: right;\">\n",
       "      <th></th>\n",
       "      <th>label</th>\n",
       "      <th>1x1</th>\n",
       "      <th>1x2</th>\n",
       "      <th>1x3</th>\n",
       "      <th>1x4</th>\n",
       "      <th>1x5</th>\n",
       "      <th>1x6</th>\n",
       "      <th>1x7</th>\n",
       "      <th>1x8</th>\n",
       "      <th>1x9</th>\n",
       "      <th>...</th>\n",
       "      <th>28x19</th>\n",
       "      <th>28x20</th>\n",
       "      <th>28x21</th>\n",
       "      <th>28x22</th>\n",
       "      <th>28x23</th>\n",
       "      <th>28x24</th>\n",
       "      <th>28x25</th>\n",
       "      <th>28x26</th>\n",
       "      <th>28x27</th>\n",
       "      <th>28x28</th>\n",
       "    </tr>\n",
       "  </thead>\n",
       "  <tbody>\n",
       "    <tr>\n",
       "      <th>0</th>\n",
       "      <td>5</td>\n",
       "      <td>0</td>\n",
       "      <td>0</td>\n",
       "      <td>0</td>\n",
       "      <td>0</td>\n",
       "      <td>0</td>\n",
       "      <td>0</td>\n",
       "      <td>0</td>\n",
       "      <td>0</td>\n",
       "      <td>0</td>\n",
       "      <td>...</td>\n",
       "      <td>0</td>\n",
       "      <td>0</td>\n",
       "      <td>0</td>\n",
       "      <td>0</td>\n",
       "      <td>0</td>\n",
       "      <td>0</td>\n",
       "      <td>0</td>\n",
       "      <td>0</td>\n",
       "      <td>0</td>\n",
       "      <td>0</td>\n",
       "    </tr>\n",
       "    <tr>\n",
       "      <th>1</th>\n",
       "      <td>0</td>\n",
       "      <td>0</td>\n",
       "      <td>0</td>\n",
       "      <td>0</td>\n",
       "      <td>0</td>\n",
       "      <td>0</td>\n",
       "      <td>0</td>\n",
       "      <td>0</td>\n",
       "      <td>0</td>\n",
       "      <td>0</td>\n",
       "      <td>...</td>\n",
       "      <td>0</td>\n",
       "      <td>0</td>\n",
       "      <td>0</td>\n",
       "      <td>0</td>\n",
       "      <td>0</td>\n",
       "      <td>0</td>\n",
       "      <td>0</td>\n",
       "      <td>0</td>\n",
       "      <td>0</td>\n",
       "      <td>0</td>\n",
       "    </tr>\n",
       "    <tr>\n",
       "      <th>2</th>\n",
       "      <td>4</td>\n",
       "      <td>0</td>\n",
       "      <td>0</td>\n",
       "      <td>0</td>\n",
       "      <td>0</td>\n",
       "      <td>0</td>\n",
       "      <td>0</td>\n",
       "      <td>0</td>\n",
       "      <td>0</td>\n",
       "      <td>0</td>\n",
       "      <td>...</td>\n",
       "      <td>0</td>\n",
       "      <td>0</td>\n",
       "      <td>0</td>\n",
       "      <td>0</td>\n",
       "      <td>0</td>\n",
       "      <td>0</td>\n",
       "      <td>0</td>\n",
       "      <td>0</td>\n",
       "      <td>0</td>\n",
       "      <td>0</td>\n",
       "    </tr>\n",
       "    <tr>\n",
       "      <th>3</th>\n",
       "      <td>1</td>\n",
       "      <td>0</td>\n",
       "      <td>0</td>\n",
       "      <td>0</td>\n",
       "      <td>0</td>\n",
       "      <td>0</td>\n",
       "      <td>0</td>\n",
       "      <td>0</td>\n",
       "      <td>0</td>\n",
       "      <td>0</td>\n",
       "      <td>...</td>\n",
       "      <td>0</td>\n",
       "      <td>0</td>\n",
       "      <td>0</td>\n",
       "      <td>0</td>\n",
       "      <td>0</td>\n",
       "      <td>0</td>\n",
       "      <td>0</td>\n",
       "      <td>0</td>\n",
       "      <td>0</td>\n",
       "      <td>0</td>\n",
       "    </tr>\n",
       "    <tr>\n",
       "      <th>4</th>\n",
       "      <td>9</td>\n",
       "      <td>0</td>\n",
       "      <td>0</td>\n",
       "      <td>0</td>\n",
       "      <td>0</td>\n",
       "      <td>0</td>\n",
       "      <td>0</td>\n",
       "      <td>0</td>\n",
       "      <td>0</td>\n",
       "      <td>0</td>\n",
       "      <td>...</td>\n",
       "      <td>0</td>\n",
       "      <td>0</td>\n",
       "      <td>0</td>\n",
       "      <td>0</td>\n",
       "      <td>0</td>\n",
       "      <td>0</td>\n",
       "      <td>0</td>\n",
       "      <td>0</td>\n",
       "      <td>0</td>\n",
       "      <td>0</td>\n",
       "    </tr>\n",
       "  </tbody>\n",
       "</table>\n",
       "<p>5 rows × 785 columns</p>\n",
       "</div>"
      ],
      "text/plain": [
       "   label  1x1  1x2  1x3  1x4  1x5  1x6  1x7  1x8  1x9  ...  28x19  28x20  \\\n",
       "0      5    0    0    0    0    0    0    0    0    0  ...      0      0   \n",
       "1      0    0    0    0    0    0    0    0    0    0  ...      0      0   \n",
       "2      4    0    0    0    0    0    0    0    0    0  ...      0      0   \n",
       "3      1    0    0    0    0    0    0    0    0    0  ...      0      0   \n",
       "4      9    0    0    0    0    0    0    0    0    0  ...      0      0   \n",
       "\n",
       "   28x21  28x22  28x23  28x24  28x25  28x26  28x27  28x28  \n",
       "0      0      0      0      0      0      0      0      0  \n",
       "1      0      0      0      0      0      0      0      0  \n",
       "2      0      0      0      0      0      0      0      0  \n",
       "3      0      0      0      0      0      0      0      0  \n",
       "4      0      0      0      0      0      0      0      0  \n",
       "\n",
       "[5 rows x 785 columns]"
      ]
     },
     "execution_count": 64,
     "metadata": {},
     "output_type": "execute_result"
    }
   ],
   "source": [
    "df_train= pd.read_csv('mnist_train.csv')\n",
    "df_train.head()\n"
   ]
  },
  {
   "cell_type": "code",
   "execution_count": 65,
   "id": "8203ca17",
   "metadata": {},
   "outputs": [
    {
     "name": "stdout",
     "output_type": "stream",
     "text": [
      "(60000, 785)\n"
     ]
    }
   ],
   "source": [
    "\"\"\"X = df_train.iloc[:,0:].values\n",
    "Y = df_train.iloc[:,0].values\"\"\"\n",
    "\n",
    "print(df_train.shape)\n",
    "data_train = np.array(df_train)\n",
    "m, n = data_train.shape\n",
    "np.random.shuffle(data_train)\n",
    "\n",
    "data_train = data_train[1000:m].T\n",
    "Y_train = data_train[0]\n",
    "X_train = data_train[1:n]\n",
    "X_train = X_train / 255.\n",
    "_,m_train = X_train.shape\n",
    "\n"
   ]
  },
  {
   "cell_type": "code",
   "execution_count": 66,
   "id": "25d03f84",
   "metadata": {},
   "outputs": [
    {
     "data": {
      "text/plain": [
       "((784,), (59000,))"
      ]
     },
     "execution_count": 66,
     "metadata": {},
     "output_type": "execute_result"
    }
   ],
   "source": [
    "X_train[:,0].shape, Y_train.shape"
   ]
  },
  {
   "cell_type": "code",
   "execution_count": 67,
   "id": "a1181069",
   "metadata": {},
   "outputs": [
    {
     "data": {
      "text/plain": [
       "(784, 59000)"
      ]
     },
     "execution_count": 67,
     "metadata": {},
     "output_type": "execute_result"
    }
   ],
   "source": [
    "X_train.shape"
   ]
  },
  {
   "cell_type": "code",
   "execution_count": 71,
   "id": "67a4aa8a",
   "metadata": {},
   "outputs": [],
   "source": [
    "def reLU(Z):\n",
    "    return np.maximum(0,Z)\n",
    "\n",
    "def derivative_reLU(Z): \n",
    "    return Z>0\n",
    "\n",
    "def softmax(Z):\n",
    "    expZ = np.exp(Z - np.max(Z, axis=0, keepdims=True))\n",
    "    return expZ / np.sum(expZ, axis=0, keepdims=True)\n",
    "\n",
    "    \n",
    "\n",
    "def init_params():\n",
    "    W1 = np.random.randn(10 ,784)\n",
    "    b1 = np.random.randn(10,1)\n",
    "    W2 = np.random.rand(10,10 )\n",
    "    b2 = np.random.rand(10,1)\n",
    "    return W1, b1, W2, b2\n",
    "\n",
    "\n",
    "def forprop(W1, b1, W2, b2, X):\n",
    "     Z1 = W1.dot(X) + b1\n",
    "     A1 =  reLU(Z1)\n",
    "     Z2 = W2.dot(A1) + b2\n",
    "     A2 = softmax(Z2)\n",
    "     return Z1, A1, Z2, A2\n",
    "\n",
    "def one_hot(Y):\n",
    "    one_hot_Y = np.zeros((Y.size, Y.max() + 1))\n",
    "    one_hot_Y[np.arange(Y.size),Y] = 1\n",
    "    one_hot_Y = one_hot_Y.T\n",
    "    return one_hot_Y\n",
    "\n",
    "def backprop(Z1, Z2, A1, A2, W1, W2, X, Y):\n",
    "    m = Y.size\n",
    "    one_hot_Y = one_hot(Y)\n",
    "    dZ2 = A2 - one_hot_Y\n",
    "    dW2 = 1/m * dZ2.dot(A1.T)\n",
    "    db2 = 1/m * np.sum(dZ2)\n",
    "    dZ1 = W2.T.dot(dZ2) * derivative_reLU(Z1)\n",
    "    dW1 = 1/m * dZ1.dot(X.T) \n",
    "    db1 = 1/m * np.sum(dZ1)\n",
    "    return dW1,db1, dW2, db2\n",
    "    \n",
    "def params_update(W1, b1, W2, b2, dW1, db1, dW2, db2, alpha):\n",
    "    W1 = W1 - alpha * dW1\n",
    "    b1 = b1 - alpha * db1\n",
    "    W2 = W2 - alpha * dW2\n",
    "    b2 = b2 - alpha * db2\n",
    "    return W1, b1, W2, b2\n",
    "\n",
    "\n",
    "\n",
    "    "
   ]
  },
  {
   "cell_type": "code",
   "execution_count": 107,
   "id": "e8c5a094",
   "metadata": {},
   "outputs": [],
   "source": [
    "def pred(A2):\n",
    "    return np.argmax(A2, axis=0)\n",
    "def accuracy(predictions, Y):\n",
    "    print(predictions, Y)\n",
    "    return np.sum(predictions == Y) / Y.size\n",
    "\n",
    "def gradient_descent(X, Y, iterations, alpha):\n",
    "    W1,b1, W2, b2 = init_params()\n",
    "    for i in range(iterations):\n",
    "        Z1, A1, Z2, A2 = forprop(W1, b1, W2, b2, X_train)\n",
    "        dW1, db1, dW2, db2= backprop(Z1, Z2, A1, A2, W1, W2, X, Y)\n",
    "        W1, b1, W2, b2 = params_update(W1, b1, W2, b2, dW1, db1, dW2, db2, alpha)\n",
    "        if i%100 == 0:\n",
    "            print(f'Iteration {i}')\n",
    "            predictions = pred(A2)\n",
    "            print(accuracy(predictions, Y))\n",
    "    return W1, b1, W2, b2\n",
    "\n"
   ]
  },
  {
   "cell_type": "code",
   "execution_count": 108,
   "id": "01ea30bb",
   "metadata": {},
   "outputs": [
    {
     "name": "stdout",
     "output_type": "stream",
     "text": [
      "Iteration 0\n",
      "[0 4 7 ... 7 2 3] [7 1 8 ... 5 4 0]\n",
      "0.11322033898305085\n",
      "Iteration 100\n",
      "[7 1 6 ... 9 9 8] [7 1 8 ... 5 4 0]\n",
      "0.4276101694915254\n",
      "Iteration 200\n",
      "[7 1 6 ... 9 9 8] [7 1 8 ... 5 4 0]\n",
      "0.5004406779661017\n"
     ]
    },
    {
     "data": {
      "text/plain": [
       "(array([[ 1.24454171, -0.3258502 ,  1.68763702, ..., -0.10635246,\n",
       "          0.49600107,  0.24400149],\n",
       "        [ 0.60305622,  0.35487483, -0.54838993, ...,  0.79277583,\n",
       "          0.20535285, -0.92970352],\n",
       "        [ 1.0403344 ,  1.08226006,  0.44864489, ..., -1.72047207,\n",
       "          0.97508167,  1.67226911],\n",
       "        ...,\n",
       "        [-1.40680412, -0.82088455, -0.9500943 , ..., -0.12273952,\n",
       "          0.71362943,  0.7752677 ],\n",
       "        [ 0.89419262,  1.40406694,  0.98142143, ...,  1.4680725 ,\n",
       "          0.60281844, -1.48283367],\n",
       "        [-0.7625704 , -0.35706472,  1.55843743, ..., -0.69180061,\n",
       "          0.66462544,  0.17278884]]),\n",
       " array([[ 1.5342109 ],\n",
       "        [-1.1629522 ],\n",
       "        [ 0.95679173],\n",
       "        [ 0.61075868],\n",
       "        [-1.50077402],\n",
       "        [-0.4846679 ],\n",
       "        [-0.05971221],\n",
       "        [ 2.56276767],\n",
       "        [-0.49557473],\n",
       "        [ 0.88762134]]),\n",
       " array([[-0.11023736,  0.3002855 ,  0.5857997 ,  0.17831994,  0.42318895,\n",
       "          0.47590137,  0.21951073,  0.65844708,  0.62286164,  0.29429674],\n",
       "        [ 0.23960393,  0.7491584 ,  0.041455  ,  0.60490903,  0.52982256,\n",
       "          0.79304176, -0.2276414 , -0.04138077,  0.8134817 ,  0.56001525],\n",
       "        [ 0.34824145,  0.56546226,  0.65771908,  0.41653612,  0.71893461,\n",
       "          0.51969186,  0.27992774,  0.5020933 ,  0.51536076,  0.43715637],\n",
       "        [ 0.0018112 ,  0.64776659,  0.28524485,  0.14817357,  0.96785066,\n",
       "          0.68021673,  0.45146988,  0.51083485,  0.39406575,  0.5693203 ],\n",
       "        [ 0.55634356,  0.29370883,  0.43406031,  0.25522757,  0.50148582,\n",
       "          0.19527026,  0.65359896,  0.60376922,  0.63784313,  0.38188081],\n",
       "        [ 0.18578183,  0.50011639,  0.45037952,  0.48235669,  0.72581028,\n",
       "          0.53912388,  0.64265802,  0.592087  ,  0.43798885,  0.44340292],\n",
       "        [ 0.20058998,  0.26505345,  0.71581849,  0.35732017,  0.73259733,\n",
       "          0.35722197,  0.53631029,  0.31948535,  0.43763759,  0.41966491],\n",
       "        [ 0.6646427 ,  0.30005311, -0.07872775,  0.33123357,  0.59916411,\n",
       "          0.43239297,  0.46359908,  0.56498175,  0.60540443,  0.40409738],\n",
       "        [ 0.27214589,  0.45806804,  0.37546401,  0.4646062 ,  0.6539543 ,\n",
       "          0.46698269,  0.50487202,  0.52397448,  0.27334605,  0.56977829],\n",
       "        [ 0.3865751 ,  0.33676587,  0.31951054,  0.33491747,  0.44581742,\n",
       "          0.27181842,  0.56226508,  0.52978612,  0.5018611 ,  0.51726146]]),\n",
       " array([[0.9363295 ],\n",
       "        [0.0502794 ],\n",
       "        [0.55101195],\n",
       "        [0.34206364],\n",
       "        [0.74791299],\n",
       "        [0.31674789],\n",
       "        [0.03900484],\n",
       "        [0.50608377],\n",
       "        [0.78684971],\n",
       "        [0.38027882]]))"
      ]
     },
     "execution_count": 108,
     "metadata": {},
     "output_type": "execute_result"
    }
   ],
   "source": [
    "gradient_descent(X_train, Y_train, 205, 0.2)"
   ]
  },
  {
   "cell_type": "code",
   "execution_count": 143,
   "id": "9044cd97",
   "metadata": {},
   "outputs": [],
   "source": [
    "def make_predictions(X,W1,b1, W2, b2):\n",
    "     _ ,_, _, A2 = forprop(W1, b1, W2, b2, X)\n",
    "     predictions = pred(A2)\n",
    "     return predictions\n",
    "def test_prediction(index, W1, b1, W2, b2):\n",
    "    current_image = X_train[:, index, None]\n",
    "    prediction = make_predictions(X_train[:, index, None], W1, b1, W2, b2)\n",
    "    label = Y_train[index]\n",
    "    print(\"Prediction: \", prediction)\n",
    "    print(\"Label: \", label)\n",
    "    \n",
    "    current_image = current_image.reshape((28, 28)) * 255\n",
    "    plt.gray()\n",
    "    plt.imshow(current_image, interpolation='nearest')\n",
    "    plt.show()\n",
    "    "
   ]
  },
  {
   "cell_type": "code",
   "execution_count": 144,
   "id": "82101925",
   "metadata": {},
   "outputs": [
    {
     "name": "stdout",
     "output_type": "stream",
     "text": [
      "Iteration 0\n",
      "[7 0 8 ... 7 8 0] [7 1 8 ... 5 4 0]\n",
      "0.10616949152542372\n",
      "Iteration 100\n",
      "[7 8 8 ... 3 8 4] [7 1 8 ... 5 4 0]\n",
      "0.4663898305084746\n",
      "Iteration 200\n",
      "[7 8 8 ... 3 8 0] [7 1 8 ... 5 4 0]\n",
      "0.6069152542372881\n",
      "Iteration 300\n",
      "[7 1 8 ... 5 8 0] [7 1 8 ... 5 4 0]\n",
      "0.6681864406779661\n",
      "Iteration 400\n",
      "[7 1 8 ... 5 4 0] [7 1 8 ... 5 4 0]\n",
      "0.723271186440678\n"
     ]
    }
   ],
   "source": [
    "W1, b1, W2, b2 = gradient_descent(X_train, Y_train, 500, 0.5)"
   ]
  },
  {
   "cell_type": "code",
   "execution_count": 145,
   "id": "38bf7bf1",
   "metadata": {},
   "outputs": [
    {
     "name": "stdout",
     "output_type": "stream",
     "text": [
      "Prediction:  [1]\n",
      "Label:  1\n"
     ]
    },
    {
     "data": {
      "image/png": "[encoded data removed]",
      "text/plain": [
       "<Figure size 640x480 with 1 Axes>"
      ]
     },
     "metadata": {},
     "output_type": "display_data"
    }
   ],
   "source": [
    "test_prediction(4, W1, b1, W2, b2)"
   ]
  },
  {
   "cell_type": "code",
   "execution_count": null,
   "id": "99592954",
   "metadata": {},
   "outputs": [
    {
     "name": "stdout",
     "output_type": "stream",
     "text": [
      "Prediction:  [4]\n",
      "Label:  4\n"
     ]
    },
    {
     "data": {
      "image/png": "[encoded data removed]",
      "text/plain": [
       "<Figure size 640x480 with 1 Axes>"
      ]
     },
     "metadata": {},
     "output_type": "display_data"
    }
   ],
   "source": [
    "test_prediction(18, W1, b1, W2, b2)"
   ]
  },
  {
   "cell_type": "code",
   "execution_count": 151,
   "id": "fe1f3835",
   "metadata": {},
   "outputs": [
    {
     "name": "stdout",
     "output_type": "stream",
     "text": [
      "Prediction:  [2]\n",
      "Label:  2\n"
     ]
    },
    {
     "data": {
      "image/png": "[encoded data removed]",
      "text/plain": [
       "<Figure size 640x480 with 1 Axes>"
      ]
     },
     "metadata": {},
     "output_type": "display_data"
    }
   ],
   "source": [
    "test_prediction(200, W1, b1, W2, b2)"
   ]
  },
  {
   "cell_type": "code",
   "execution_count": 154,
   "id": "c663f805",
   "metadata": {},
   "outputs": [
    {
     "name": "stdout",
     "output_type": "stream",
     "text": [
      "Prediction:  [6]\n",
      "Label:  5\n"
     ]
    },
    {
     "data": {
      "image/png": "[encoded data removed]",
      "text/plain": [
       "<Figure size 640x480 with 1 Axes>"
      ]
     },
     "metadata": {},
     "output_type": "display_data"
    }
   ],
   "source": [
    "test_prediction(940, W1, b1, W2, b2)"
   ]
  },
  {
   "cell_type": "code",
   "execution_count": 155,
   "id": "63590b90",
   "metadata": {},
   "outputs": [],
   "source": [
    "df_test = pd.read_csv('mnist_test.csv')\n",
    "p,k = df_test.shape"
   ]
  },
  {
   "cell_type": "code",
   "execution_count": 172,
   "id": "dff5e116",
   "metadata": {},
   "outputs": [],
   "source": [
    "data_test = np.array(df_test).T\n",
    "Y_test = data_test[0]\n",
    "X_test = data_test[1:k]\n",
    "\n",
    "def make_predictions_test(X,W1,b1, W2, b2):\n",
    "     _ ,_, _, A2 = forprop(W1, b1, W2, b2, X)\n",
    "     predictions = pred(A2)\n",
    "     return predictions\n",
    "def test_prediction_test(index, W1, b1, W2, b2):\n",
    "    current_image = X_test[:, index, None]\n",
    "    prediction = make_predictions(X_test[:, index, None], W1, b1, W2, b2)\n",
    "    label = Y_test[index]\n",
    "    print(\"Prediction: \", prediction)\n",
    "    print(\"Label: \", label)\n",
    "    \n",
    "    current_image = current_image.reshape((28, 28)) * 255\n",
    "    plt.gray()\n",
    "    plt.imshow(current_image, interpolation='nearest')\n",
    "    plt.show()\n",
    "    \n"
   ]
  },
  {
   "cell_type": "code",
   "execution_count": 173,
   "id": "9cc50068",
   "metadata": {},
   "outputs": [
    {
     "data": {
      "image/png": "[encoded data removed]",
      "text/plain": [
       "<Figure size 640x480 with 1 Axes>"
      ]
     },
     "metadata": {},
     "output_type": "display_data"
    }
   ],
   "source": [
    "current_image = X_test[:, 2]\n",
    "current_image = current_image.reshape(28, 28)\n",
    "plt.imshow(current_image, cmap=\"gray\")\n",
    "plt.axis(\"off\")\n",
    "plt.show()\n",
    "\n"
   ]
  },
  {
   "cell_type": "code",
   "execution_count": 174,
   "id": "46a3d44f",
   "metadata": {},
   "outputs": [
    {
     "name": "stdout",
     "output_type": "stream",
     "text": [
      "Prediction:  [0]\n",
      "Label:  0\n"
     ]
    },
    {
     "data": {
      "image/png": "[encoded data removed]",
      "text/plain": [
       "<Figure size 640x480 with 1 Axes>"
      ]
     },
     "metadata": {},
     "output_type": "display_data"
    }
   ],
   "source": [
    "test_prediction_test(10, W1, b1, W2, b2)"
   ]
  },
  {
   "cell_type": "code",
   "execution_count": 175,
   "id": "b7f5d9d1",
   "metadata": {},
   "outputs": [
    {
     "name": "stdout",
     "output_type": "stream",
     "text": [
      "Prediction:  [3]\n",
      "Label:  3\n"
     ]
    },
    {
     "data": {
      "image/png": "[encoded data removed]",
      "text/plain": [
       "<Figure size 640x480 with 1 Axes>"
      ]
     },
     "metadata": {},
     "output_type": "display_data"
    }
   ],
   "source": [
    "test_prediction_test(200,W1, b1, W2, b2)"
   ]
  },
  {
   "cell_type": "code",
   "execution_count": 176,
   "id": "dbe127e7",
   "metadata": {},
   "outputs": [
    {
     "name": "stdout",
     "output_type": "stream",
     "text": [
      "Prediction:  [7]\n",
      "Label:  9\n"
     ]
    },
    {
     "data": {
      "image/png": "[encoded data removed]",
      "text/plain": [
       "<Figure size 640x480 with 1 Axes>"
      ]
     },
     "metadata": {},
     "output_type": "display_data"
    }
   ],
   "source": [
    "test_prediction_test(20,W1, b1, W2, b2)"
   ]
  },
  {
   "cell_type": "code",
   "execution_count": null,
   "id": "4c4438d2",
   "metadata": {},
   "outputs": [],
   "source": []
  },
  {
   "cell_type": "code",
   "execution_count": null,
   "id": "fab03ec1",
   "metadata": {},
   "outputs": [],
   "source": []
  }
 ],
 "metadata": {
  "kernelspec": {
   "display_name": "base",
   "language": "python",
   "name": "python3"
  },
  "language_info": {
   "codemirror_mode": {
    "name": "ipython",
    "version": 3
   },
   "file_extension": ".py",
   "mimetype": "text/x-python",
   "name": "python",
   "nbconvert_exporter": "python",
   "pygments_lexer": "ipython3",
   "version": "3.12.4"
  }
 },
 "nbformat": 4,
 "nbformat_minor": 5
}
